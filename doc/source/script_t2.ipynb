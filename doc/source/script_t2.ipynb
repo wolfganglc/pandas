{
 "cells": [
  {
   "attachments": {},
   "cell_type": "markdown",
   "metadata": {},
   "source": [
    "# Importación de liberías"
   ]
  },
  {
   "cell_type": "code",
   "execution_count": null,
   "metadata": {},
   "outputs": [],
   "source": [
    "#IMPORTA LIBERIAS NECESARIAS\n",
    "\n",
    "import pandas as pd\n",
    "from sklearn.model_selection import train_test_split\n",
    "from sklearn.linear_model import LogisticRegression\n",
    "from sklearn.ensemble import RandomForestClassifier\n",
    "from sklearn.metrics import roc_auc_score\n",
    "from sklearn.metrics import confusion_matrix\n",
    "import seaborn as sns\n",
    "import matplotlib.pyplot as plt\n",
    "from sklearn.metrics import recall_score\n",
    "from sklearn.metrics import precision_score\n",
    "from sklearn.metrics import f1_score\n",
    "from sklearn.metrics import accuracy_score\n",
    "\n",
    "#ACTIVA OPCION PARA VER TODAS LAS COLUMNAS\n",
    "pd.set_option('display.max_columns', None)\n"
   ]
  },
  {
   "attachments": {},
   "cell_type": "markdown",
   "metadata": {},
   "source": [
    "# Carga de datos"
   ]
  },
  {
   "cell_type": "code",
   "execution_count": null,
   "metadata": {},
   "outputs": [],
   "source": [
    "#LEER EXCEL\n",
    "train_data = pd.read_excel('telco_db.xlsx')"
   ]
  },
  {
   "cell_type": "code",
   "execution_count": null,
   "metadata": {},
   "outputs": [],
   "source": [
    "#EXPLORAR PRIEMRAS 5 FILAS\n",
    "train_data.head()"
   ]
  },
  {
   "cell_type": "code",
   "execution_count": null,
   "metadata": {},
   "outputs": [],
   "source": [
    "#REVISAR TIPOS DE DATOS\n",
    "train_data.dtypes"
   ]
  },
  {
   "cell_type": "code",
   "execution_count": null,
   "metadata": {},
   "outputs": [],
   "source": [
    "#VER CANTIDAD DE FILAS Y COLUMNAS\n",
    "train_data.shape"
   ]
  },
  {
   "attachments": {},
   "cell_type": "markdown",
   "metadata": {},
   "source": [
    "# Limpieza de datos y transformación de datos"
   ]
  },
  {
   "cell_type": "code",
   "execution_count": null,
   "metadata": {},
   "outputs": [],
   "source": [
    "#TOTAL CHARGES ES OBJECT, SE DEBE CONVERTIR A NUMERICO\n",
    "train_data['TotalCharges'] = pd.to_numeric(train_data['TotalCharges'], errors='coerce')"
   ]
  },
  {
   "cell_type": "code",
   "execution_count": null,
   "metadata": {},
   "outputs": [],
   "source": [
    "# VERIFICAR QUE NO HAYA NULOS\n",
    "train_data.isnull().sum()"
   ]
  },
  {
   "cell_type": "code",
   "execution_count": null,
   "metadata": {},
   "outputs": [],
   "source": [
    "#ELIMINAR NULOS YA QUE REPRESENTAN MENOS DEL 2% DE LOS DATOS\n",
    "train_data.dropna(inplace=True)"
   ]
  },
  {
   "cell_type": "code",
   "execution_count": null,
   "metadata": {},
   "outputs": [],
   "source": [
    "# VERIFICAR QUE NO HAYA NULOS\n",
    "train_data.isnull().sum()"
   ]
  },
  {
   "cell_type": "code",
   "execution_count": null,
   "metadata": {},
   "outputs": [],
   "source": [
    "#VOLVER A REVISAR TIPOS DE DATOS\n",
    "train_data.dtypes"
   ]
  },
  {
   "cell_type": "code",
   "execution_count": null,
   "metadata": {},
   "outputs": [],
   "source": [
    "#DEFINIMOS LAS COLUMNAS QUE QUEREMOS TRANSFORMAR A BINARIAS\n",
    "columnas_binarias = ['Partner',\n",
    "                    'Dependents',\n",
    "                    'PhoneService',\n",
    "                    'PaperlessBilling',\n",
    "                    'Churn',\n",
    "                    'gender',\n",
    "                    'MultipleLines',\n",
    "                    'OnlineSecurity',\n",
    "                    'OnlineBackup',\n",
    "                    'DeviceProtection',\n",
    "                    'TechSupport',\n",
    "                    'StreamingTV',\n",
    "                    'StreamingMovies'\n",
    "                    ]\n",
    "\n",
    "#ITERAMOS SOBRE LAS COLUMNAS Y APLICAMOS LA TRANSFORMACION\n",
    "for col in columnas_binarias:\n",
    "    train_data[col] = train_data[col].replace({'Yes': 1, 'No': 0, 'Female':1, 'Male':0, 'No internet service': 0 , 'No phone service': 0})\n",
    "\n",
    "#LEEMOS ENCABEZADOS DE COLUMNAS\n",
    "train_data[columnas_binarias].head()"
   ]
  },
  {
   "cell_type": "code",
   "execution_count": null,
   "metadata": {},
   "outputs": [],
   "source": [
    "#VERIFICAMOS QUE SE HAYAN TRANSFORMADO CORRECTAMENTE\n",
    "train_data[columnas_binarias].describe()"
   ]
  },
  {
   "cell_type": "code",
   "execution_count": null,
   "metadata": {},
   "outputs": [],
   "source": [
    "#VOLVEMOS A VER LOS TIPOS DE DATOS\n",
    "train_data.dtypes"
   ]
  },
  {
   "cell_type": "code",
   "execution_count": null,
   "metadata": {},
   "outputs": [],
   "source": [
    "#SE CREAN COLUMNAS CATEGORICAS COMO VARIABLES DUMMIES\n",
    "train_data = pd.get_dummies(data=train_data, columns=['InternetService', 'Contract', 'PaymentMethod'])\n",
    "\n",
    "#VOLVEMOS A VER LOS TIPOS DE DATOS\n",
    "train_data.dtypes"
   ]
  },
  {
   "cell_type": "code",
   "execution_count": null,
   "metadata": {},
   "outputs": [],
   "source": [
    "#REVISAMOS COMO QUEDO EL DATAFRAME LUEGO DE LAS TRANSFORMACIONES\n",
    "train_data.head()"
   ]
  },
  {
   "attachments": {},
   "cell_type": "markdown",
   "metadata": {},
   "source": [
    "# EDA"
   ]
  },
  {
   "cell_type": "code",
   "execution_count": null,
   "metadata": {},
   "outputs": [],
   "source": [
    "#GENERAMOS ESTADISTICAS DESCRIPTIVAS POR CADA VARIABLE\n",
    "train_data.describe()"
   ]
  },
  {
   "cell_type": "code",
   "execution_count": null,
   "metadata": {},
   "outputs": [],
   "source": [
    "#VEMOS COMO ESTA DISTRIBUIDO EL TARGET\n",
    "train_data['Churn'].value_counts()"
   ]
  },
  {
   "cell_type": "code",
   "execution_count": null,
   "metadata": {},
   "outputs": [],
   "source": [
    "#ANALISIS UNIVARIADO\n",
    "columna_a_analizar = 'Dependents'\n",
    "sns.countplot(data=train_data, x= columna_a_analizar, hue='Churn')"
   ]
  },
  {
   "cell_type": "code",
   "execution_count": null,
   "metadata": {},
   "outputs": [],
   "source": [
    "#CREA UNA MATRIZ DE CORRELACION\n",
    "correlation_matrix = train_data.corr()\n",
    "plt.figure(figsize=(30, 30))\n",
    "sns.heatmap(correlation_matrix, annot=True, cmap=\"coolwarm\", vmin=-1, vmax=1)\n",
    "plt.title(\"Matriz de Correlación\")\n",
    "plt.savefig('correlation_matrix.png', dpi=300)\n",
    "plt.show()\n",
    "\n"
   ]
  },
  {
   "cell_type": "code",
   "execution_count": null,
   "metadata": {},
   "outputs": [],
   "source": [
    "#RAFICAMOS CORRELACIONES CON EL TARGET\n",
    "plt.figure(figsize=(20,8))\n",
    "train_data.corr()['Churn'].sort_values(ascending = False).plot(kind='bar')"
   ]
  },
  {
   "attachments": {},
   "cell_type": "markdown",
   "metadata": {},
   "source": [
    "# Pre entrenamiento"
   ]
  },
  {
   "cell_type": "code",
   "execution_count": null,
   "metadata": {},
   "outputs": [],
   "source": [
    "#SELECCIONAMOS VARIABLES PREDICTORAS \n",
    "variables_pred = ['tenure', 'gender',\t'SeniorCitizen'\t,'Partner']"
   ]
  },
  {
   "cell_type": "code",
   "execution_count": null,
   "metadata": {},
   "outputs": [],
   "source": [
    "#SEPARAMOS LOS DATOS ENTRE VARIABLES PREDICTORAS Y TARGET\n",
    "X_train = train_data[variables_pred]\n",
    "y_train = train_data['Churn']"
   ]
  },
  {
   "cell_type": "code",
   "execution_count": null,
   "metadata": {},
   "outputs": [],
   "source": [
    "#GENERAMOS SET DE ENTRENAMIENTO Y TEST\n",
    "X_train, X_test, y_train, y_test = train_test_split(X_train, y_train, test_size=0.2, random_state=42)"
   ]
  },
  {
   "attachments": {},
   "cell_type": "markdown",
   "metadata": {},
   "source": [
    "# Regresion logistica"
   ]
  },
  {
   "cell_type": "code",
   "execution_count": null,
   "metadata": {},
   "outputs": [],
   "source": [
    "#IMPORTAMOS EL MODELO\n",
    "model_lr = LogisticRegression()\n",
    "#ENTRENAMOS EL MODELO\n",
    "model_lr.fit(X_train, y_train)\n",
    "#ENVALUAMOS EL MODELO\n",
    "preds_train_lr = model_lr.predict_proba(X_train)[:,1]\n",
    "preds_test_lr  = model_lr.predict_proba(X_test)[:,1]\n",
    "#CALCUAMOS EL RECALL EN TRAIN Y TEST\n",
    "recall_train_lr = recall_score(y_train, preds_train_lr.round())\n",
    "recall_test_lr = recall_score(y_test, preds_test_lr.round())\n",
    "print('Recall en train: ', recall_train_lr)\n",
    "print('Recall en test: ', recall_test_lr)\n",
    "#CALCUAMOS EL PRECISION EN TRAIN Y TEST\n",
    "precision_train_lr = precision_score(y_train, preds_train_lr.round())\n",
    "precision_test_lr = precision_score(y_test, preds_test_lr.round())\n",
    "print('Precision en train: ', precision_train_lr)\n",
    "print('Precision en test: ', precision_test_lr)"
   ]
  },
  {
   "cell_type": "code",
   "execution_count": null,
   "metadata": {},
   "outputs": [],
   "source": [
    "#SE MUESTRAN LOS COEFIENCTES DE CADA VARIABLE EN LA REGRESION LOGISTICA\n",
    "for i in range(len(variables_pred)):\n",
    "    print(variables_pred[i], model_lr.coef_[0][i])\n"
   ]
  },
  {
   "attachments": {},
   "cell_type": "markdown",
   "metadata": {},
   "source": [
    "## Matriz de confusion para train"
   ]
  },
  {
   "cell_type": "code",
   "execution_count": null,
   "metadata": {},
   "outputs": [],
   "source": [
    "#GRAFICAMOS LA MATRIZ DE CONFUSION\n",
    "sns.heatmap(confusion_matrix(y_train, model_lr.predict(X_train)), annot=True, fmt=\"d\")\n",
    "plt.xlabel(\"Predicho\")\n",
    "plt.ylabel(\"Real\")"
   ]
  },
  {
   "attachments": {},
   "cell_type": "markdown",
   "metadata": {},
   "source": [
    "## Matriz de confusion para test"
   ]
  },
  {
   "cell_type": "code",
   "execution_count": null,
   "metadata": {},
   "outputs": [],
   "source": [
    "#GRAFICAMOS LA MATRIZ DE CONFUSION\n",
    "sns.heatmap(confusion_matrix(y_test, model_lr.predict(X_test)), annot=True, fmt=\"d\")\n",
    "plt.xlabel(\"Predicho\")\n",
    "plt.ylabel(\"Real\")"
   ]
  },
  {
   "attachments": {},
   "cell_type": "markdown",
   "metadata": {},
   "source": [
    "# Random Forest"
   ]
  },
  {
   "cell_type": "code",
   "execution_count": null,
   "metadata": {},
   "outputs": [],
   "source": [
    "#SET DE PROFUNDIDAD MAXIMA\n",
    "profundidad_maxima = 5"
   ]
  },
  {
   "cell_type": "code",
   "execution_count": null,
   "metadata": {},
   "outputs": [],
   "source": [
    "#IMPORTAMOS EL MODELO\n",
    "model_rf = RandomForestClassifier(max_depth=profundidad_maxima)\n",
    "#ENTRENAMOS EL MODELO\n",
    "model_rf.fit(X_train, y_train)\n",
    "#EVALUAMOS EL MODELO\n",
    "preds_train_rf = model_rf.predict_proba(X_train)[:,1]\n",
    "preds_test_rf  = model_rf.predict_proba(X_test)[:,1]\n",
    "#CALCUAMOS EL RECALL EN TRAIN Y TEST\n",
    "recall_train_rf = recall_score(y_train, preds_train_rf.round()) \n",
    "recall_test_rf = recall_score(y_test, preds_test_rf.round())\n",
    "print('Recall en train: ', recall_train_rf)\n",
    "print('Recall en test: ', recall_test_rf)\n",
    "#CALCULAMOS LA PRECISION EN TRAIN Y TEST\n",
    "precision_train_rf = precision_score(y_train, preds_train_rf.round())\n",
    "precision_test_rf = precision_score(y_test, preds_test_rf.round())\n",
    "print('Precision en train: ', precision_train_rf)\n",
    "print('Precision en test: ', precision_test_rf)"
   ]
  },
  {
   "attachments": {},
   "cell_type": "markdown",
   "metadata": {},
   "source": [
    "# Matriz de confusion para train"
   ]
  },
  {
   "cell_type": "code",
   "execution_count": null,
   "metadata": {},
   "outputs": [],
   "source": [
    "# GRAFICAMOS LA MATRIZ DE CONFUSION\n",
    "sns.heatmap(confusion_matrix(y_train, model_rf.predict(X_train)), annot=True, fmt=\"d\")\n",
    "plt.xlabel(\"Predicho\")\n",
    "plt.ylabel(\"Real\")"
   ]
  },
  {
   "attachments": {},
   "cell_type": "markdown",
   "metadata": {},
   "source": [
    "# Matriz de confusion para test"
   ]
  },
  {
   "cell_type": "code",
   "execution_count": null,
   "metadata": {},
   "outputs": [],
   "source": [
    "# GRAFICAMOS LA MATRIZ DE CONFUSION\n",
    "sns.heatmap(confusion_matrix(y_test, model_rf.predict(X_test)), annot=True, fmt=\"d\")\n",
    "plt.xlabel(\"Predicho\")\n",
    "plt.ylabel(\"Real\")"
   ]
  },
  {
   "attachments": {},
   "cell_type": "markdown",
   "metadata": {},
   "source": [
    "# Rendimiento de campaña"
   ]
  },
  {
   "cell_type": "code",
   "execution_count": null,
   "metadata": {},
   "outputs": [],
   "source": [
    "#SET DEL COSTO DE CONTACTO\n",
    "costo_de_contacto = 10\n",
    "\n",
    "#SET DEL CLV DEL CLIENTE\n",
    "clv_cliente = 100\n",
    "\n",
    "################################\n",
    "#Para regresión logística\n",
    "################################\n",
    "\n",
    "#CALCULO DE CLIENTES CONTACTADOS\n",
    "clientes_contactados = (model_lr.predict(X_test) == 1).sum()\n",
    "\n",
    "#CALCULO DE CLIENTES NO FUGADOS\n",
    "clientes_no_fugados  = (y_test == 0).sum()\n",
    "\n",
    "#DEFINIMOS LOS CLIENTES RETENIDOS COMO LOS PREDICHOS 1 Y CON CHURN 1, ES DECIR, LO QUE SE IBAN A IR PERO CONTACTAMOS\n",
    "clientes_retenidos   = ((model_lr.predict(X_test) == 1) & (y_test == 1)).sum()\n",
    "\n",
    "#CALCULO DE COSTO TOTAL DE LA CAMPAÑA\n",
    "costo_total_campana = clientes_contactados * costo_de_contacto\n",
    "\n",
    "#CALCULO DE BENEFICIO DE LOS CLIENTES RETENIDOS\n",
    "beneficio_retenidos = clientes_retenidos * clv_cliente\n",
    "\n",
    "#CALCULO DE UTILIDADES\n",
    "utilidad_sin_campana = clv_cliente * clientes_no_fugados\n",
    "utilidad_con_campana = utilidad_sin_campana  + beneficio_retenidos - costo_total_campana\n",
    "\n",
    "#ROI\n",
    "ROI = (beneficio_retenidos - costo_total_campana)/costo_total_campana\n",
    "\n",
    "print(\"Modelo de regresión logística\")\n",
    "print(\"\")\n",
    "print('Recall en test: ', round(recall_test_lr*100,1),\"%\")\n",
    "print('Precision en test: ', round(precision_test_lr*100,1),\"%\")\n",
    "print('Utilidad sin campaña:', utilidad_sin_campana)\n",
    "print('Utilidad con campaña:', utilidad_con_campana)\n",
    "print('Incremento de utilidad:', utilidad_con_campana - utilidad_sin_campana)\n",
    "print('ROI:', ROI)\n",
    "\n",
    "################################\n",
    "#Para Random forest\n",
    "################################\n",
    "\n",
    "#CALCULO DE CLIENTES CONTACTADOS\n",
    "clientes_contactados = (model_rf.predict(X_test) == 1).sum()\n",
    "\n",
    "#CALCULO DE CLIENTES NO FUGADOS\n",
    "clientes_no_fugados  = (y_test == 0).sum()\n",
    "\n",
    "#DEFINIMOS LOS CLIENTES RETENIDOS COMO LOS PREDICHOS 1 Y CON CHURN 1, ES DECIR, LO QUE SE IBAN A IR PERO CONTACTAMOS\n",
    "clientes_retenidos   = ((model_rf.predict(X_test) == 1) & (y_test == 1)).sum()\n",
    "\n",
    "#CALCULO DE COSTO TOTAL DE LA CAMPAÑA\n",
    "costo_total_campana = clientes_contactados * costo_de_contacto\n",
    "\n",
    "#CALCULO DE BENEFICIO DE LOS CLIENTES RETENIDOS\n",
    "beneficio_retenidos = clientes_retenidos * clv_cliente\n",
    "\n",
    "#CALCULO DE UTILIDADES\n",
    "utilidad_sin_campana = clv_cliente * clientes_no_fugados\n",
    "utilidad_con_campana = utilidad_sin_campana  + beneficio_retenidos - costo_total_campana\n",
    "\n",
    "#ROI\n",
    "ROI = (beneficio_retenidos - costo_total_campana)/costo_total_campana\n",
    "\n",
    "print(\"\")\n",
    "print(\"Modelo de Random Forest\")\n",
    "print(\"\")\n",
    "print('Recall en test: ', round(recall_test_rf*100,1),\"%\")\n",
    "print('Precision en test: ', round(precision_test_rf*100,1),\"%\")\n",
    "print('Utilidad sin campaña:', utilidad_sin_campana)\n",
    "print('Utilidad con campaña:', utilidad_con_campana)\n",
    "print('Incremento de utilidad:', utilidad_con_campana - utilidad_sin_campana)\n",
    "print('ROI:', ROI)"
   ]
  }
 ],
 "metadata": {
  "kernelspec": {
   "display_name": "Python 3",
   "language": "python",
   "name": "python3"
  },
  "language_info": {
   "codemirror_mode": {
    "name": "ipython",
    "version": 3
   },
   "file_extension": ".py",
   "mimetype": "text/x-python",
   "name": "python",
   "nbconvert_exporter": "python",
   "pygments_lexer": "ipython3",
   "version": "3.8.5"
  },
  "toc": {
   "base_numbering": 1,
   "nav_menu": {},
   "number_sections": true,
   "sideBar": true,
   "skip_h1_title": false,
   "title_cell": "Table of Contents",
   "title_sidebar": "Contents",
   "toc_cell": false,
   "toc_position": {},
   "toc_section_display": true,
   "toc_window_display": false
  }
 },
 "nbformat": 4,
 "nbformat_minor": 2
}
